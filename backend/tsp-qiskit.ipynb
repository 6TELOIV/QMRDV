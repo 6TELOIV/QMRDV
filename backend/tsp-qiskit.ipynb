{
 "cells": [
  {
   "cell_type": "code",
   "execution_count": 1,
   "metadata": {},
   "outputs": [],
   "source": [
    "import numpy as np\n",
    "\n",
    "from qiskit import *"
   ]
  },
  {
   "cell_type": "markdown",
   "metadata": {},
   "source": [
    "# Quantum Swamp\n",
    "\n",
    "This is a traveling salesman problem."
   ]
  },
  {
   "cell_type": "code",
   "execution_count": 2,
   "metadata": {},
   "outputs": [
    {
     "data": {
      "text/plain": [
       "array([[1., 1., 2., 1.],\n",
       "       [1., 1., 1., 3.],\n",
       "       [2., 1., 1., 1.],\n",
       "       [1., 3., 1., 1.]])"
      ]
     },
     "execution_count": 2,
     "metadata": {},
     "output_type": "execute_result"
    }
   ],
   "source": [
    "N = 4\n",
    "cost_matrix = np.ones((N,N))\n",
    "cost_matrix[0,2] = cost_matrix[2,0] = 2\n",
    "cost_matrix[3,1] = cost_matrix[1,3] = 3\n",
    "\n",
    "cost_matrix"
   ]
  },
  {
   "cell_type": "code",
   "execution_count": 3,
   "metadata": {},
   "outputs": [
    {
     "data": {
      "text/plain": [
       "array([[ 0.54030231+0.84147098j,  0.54030231+0.84147098j,\n",
       "        -0.41614684+0.90929743j,  0.54030231+0.84147098j],\n",
       "       [ 0.54030231+0.84147098j,  0.54030231+0.84147098j,\n",
       "         0.54030231+0.84147098j, -0.9899925 +0.14112001j],\n",
       "       [-0.41614684+0.90929743j,  0.54030231+0.84147098j,\n",
       "         0.54030231+0.84147098j,  0.54030231+0.84147098j],\n",
       "       [ 0.54030231+0.84147098j, -0.9899925 +0.14112001j,\n",
       "         0.54030231+0.84147098j,  0.54030231+0.84147098j]])"
      ]
     },
     "execution_count": 3,
     "metadata": {},
     "output_type": "execute_result"
    }
   ],
   "source": [
    "B = np.exp(1j *cost_matrix)\n",
    "B"
   ]
  },
  {
   "cell_type": "code",
   "execution_count": 4,
   "metadata": {},
   "outputs": [
    {
     "name": "stdout",
     "output_type": "stream",
     "text": [
      "[array([[ 0.54030231+0.84147098j,  0.        +0.j        ,\n",
      "         0.        +0.j        ,  0.        +0.j        ],\n",
      "       [ 0.        +0.j        ,  0.54030231+0.84147098j,\n",
      "         0.        +0.j        ,  0.        +0.j        ],\n",
      "       [ 0.        +0.j        ,  0.        +0.j        ,\n",
      "        -0.41614684+0.90929743j,  0.        +0.j        ],\n",
      "       [ 0.        +0.j        ,  0.        +0.j        ,\n",
      "         0.        +0.j        ,  0.54030231+0.84147098j]]), array([[ 0.54030231+0.84147098j,  0.        +0.j        ,\n",
      "         0.        +0.j        ,  0.        +0.j        ],\n",
      "       [ 0.        +0.j        ,  0.54030231+0.84147098j,\n",
      "         0.        +0.j        ,  0.        +0.j        ],\n",
      "       [ 0.        +0.j        ,  0.        +0.j        ,\n",
      "         0.54030231+0.84147098j,  0.        +0.j        ],\n",
      "       [ 0.        +0.j        ,  0.        +0.j        ,\n",
      "         0.        +0.j        , -0.9899925 +0.14112001j]]), array([[-0.41614684+0.90929743j,  0.        +0.j        ,\n",
      "         0.        +0.j        ,  0.        +0.j        ],\n",
      "       [ 0.        +0.j        ,  0.54030231+0.84147098j,\n",
      "         0.        +0.j        ,  0.        +0.j        ],\n",
      "       [ 0.        +0.j        ,  0.        +0.j        ,\n",
      "         0.54030231+0.84147098j,  0.        +0.j        ],\n",
      "       [ 0.        +0.j        ,  0.        +0.j        ,\n",
      "         0.        +0.j        ,  0.54030231+0.84147098j]]), array([[ 0.54030231+0.84147098j,  0.        +0.j        ,\n",
      "         0.        +0.j        ,  0.        +0.j        ],\n",
      "       [ 0.        +0.j        , -0.9899925 +0.14112001j,\n",
      "         0.        +0.j        ,  0.        +0.j        ],\n",
      "       [ 0.        +0.j        ,  0.        +0.j        ,\n",
      "         0.54030231+0.84147098j,  0.        +0.j        ],\n",
      "       [ 0.        +0.j        ,  0.        +0.j        ,\n",
      "         0.        +0.j        ,  0.54030231+0.84147098j]])]\n"
     ]
    },
    {
     "data": {
      "text/plain": [
       "0"
      ]
     },
     "execution_count": 4,
     "metadata": {},
     "output_type": "execute_result"
    }
   ],
   "source": [
    "U = []\n",
    "\n",
    "for j in range(N):\n",
    "    Uj = np.zeros((N,N), dtype=np.complex)\n",
    "    for k in range(N):\n",
    "        Uj[k,k] = B[j,k]\n",
    "    Uj = Uj\n",
    "\n",
    "    U.append(Uj)\n",
    "\n",
    "kron = U[0]\n",
    "for i in range(1, N):\n",
    "    kron = np.kron(kron, U[i])\n",
    "\n",
    "print(U)\n",
    "\n",
    "np.count_nonzero(kron - np.diag(np.diagonal(kron)))"
   ]
  },
  {
   "cell_type": "code",
   "execution_count": 5,
   "metadata": {},
   "outputs": [],
   "source": [
    "t = 6\n",
    "s = 8"
   ]
  },
  {
   "cell_type": "code",
   "execution_count": 6,
   "metadata": {},
   "outputs": [],
   "source": [
    "def uni_gate(phases, x,y,z, name):\n",
    "    a,b,c,d = phases\n",
    "    ug = QuantumCircuit(3, name=name)\n",
    "    ug.cu1((c-a), x,y)\n",
    "    ug.u1(a, x)\n",
    "    ug.cu1(b-a, x,z)\n",
    "    ug.ccx(x,y,z)\n",
    "    ug.cu1((d-c+a-b)/2, x,z)\n",
    "    #ug.u1((d-c+a-b)/2, z)\n",
    "    # ug.ccx(x,y,z)\n",
    "    ug.ccx(x,y,z)\n",
    "    ug.cu1((d-c+a-b)/2, x,y)\n",
    "    ug.cu1((d-c+a-b)/2, x,z)\n",
    "    return ug.to_instruction()\n"
   ]
  },
  {
   "cell_type": "code",
   "execution_count": 7,
   "metadata": {},
   "outputs": [],
   "source": [
    "def qft_dagger(n):\n",
    "    circ = QuantumCircuit(n, name='I-QFT')\n",
    "    for j in range(n):\n",
    "        k = (n-1) - j\n",
    "        for m in range(k):\n",
    "            circ.cu1(-np.pi/float(2**(k-m)), k, m)\n",
    "        circ.h(k)\n",
    "    return circ.to_instruction()"
   ]
  },
  {
   "cell_type": "code",
   "execution_count": 8,
   "metadata": {},
   "outputs": [],
   "source": [
    "test_phases = [0, np.pi/2 , np.pi /8 , np.pi /4 , np.pi /2 , 0, np.pi /4 , np.pi /4 , np.pi /8 , np.pi /4 , 0, np.pi /8 , np.pi /4 , np.pi /4 , np.pi /8, 0]"
   ]
  },
  {
   "cell_type": "code",
   "execution_count": 9,
   "metadata": {},
   "outputs": [
    {
     "data": {
      "text/plain": [
       "(-0.19634954084936207, 0.19634954084936207)"
      ]
     },
     "execution_count": 9,
     "metadata": {},
     "output_type": "execute_result"
    }
   ],
   "source": [
    "(np.pi/4 + np.pi/8 - 0 - np.pi/2)/2, np.pi/16"
   ]
  },
  {
   "cell_type": "code",
   "execution_count": 21,
   "metadata": {},
   "outputs": [
    {
     "name": "stdout",
     "output_type": "stream",
     "text": [
      "[-1. -1. -2. -1.]\n",
      "[-1. -1. -1. -3.]\n",
      "[-2. -1. -1. -1.]\n",
      "[-1. -3. -1. -1.]\n",
      "[-1. -1. -2. -1.]\n",
      "[-1. -1. -1. -3.]\n",
      "[-2. -1. -1. -1.]\n",
      "[-1. -3. -1. -1.]\n",
      "[-1. -1. -2. -1.]\n",
      "[-1. -1. -1. -3.]\n",
      "[-2. -1. -1. -1.]\n",
      "[-1. -3. -1. -1.]\n",
      "[-1. -1. -2. -1.]\n",
      "[-1. -1. -1. -3.]\n",
      "[-2. -1. -1. -1.]\n",
      "[-1. -3. -1. -1.]\n",
      "[-1. -1. -2. -1.]\n",
      "[-1. -1. -1. -3.]\n",
      "[-2. -1. -1. -1.]\n",
      "[-1. -3. -1. -1.]\n",
      "[-1. -1. -2. -1.]\n",
      "[-1. -1. -1. -3.]\n",
      "[-2. -1. -1. -1.]\n",
      "[-1. -3. -1. -1.]\n"
     ]
    }
   ],
   "source": [
    "qc = QuantumCircuit(t+s,t)\n",
    "\n",
    "temp = [0, 1, 5, 6]\n",
    "#temp = [1, 2, 4, 5]\n",
    "#temp = [0, 4, 5, 7]\n",
    "#temp = [1, 2, 3, 6]\n",
    "#temp = [0, 1, 2, 7]\n",
    "#temp = [0, 2, 3, 5]\n",
    "\n",
    "\n",
    "\n",
    "\n",
    "\n",
    "for te in temp:\n",
    "    qc.x(t+te)\n",
    "\n",
    "for t_i in range(t):\n",
    "    qc.h(t_i)\n",
    "\n",
    "for t_i in range(t-1, -1, -1):\n",
    "    bigU_qc = QuantumCircuit(t+s, name='C-U'.format(2**(t-t_i-1)))\n",
    "    for idx, u in enumerate(U):\n",
    "        phases = (1j *np.log(np.diag(u))).real\n",
    "        #phases = test_phases[idx*4 : idx*4 + 4]\n",
    "        # print(idx, (t-t_i-1)*4)\n",
    "        print(phases)\n",
    "        gate = uni_gate(phases, 0,1,2, name='uni-{}'.format(idx))\n",
    "        #for power in range(2**(t-t_i-1)):\n",
    "        #    print(power)\n",
    "        bigU_qc.append(gate, [t_i,idx*2+t,idx*2+t+1])\n",
    "    bigU_qc_2 = QuantumCircuit(t+s, name='C-U-pow(2,{})'.format(2**(t-t_i-1)))\n",
    "    for power in range(2**(t-t_i-1)):\n",
    "        bigU_qc_2.append(bigU_qc, range(t+s))\n",
    "    qc.append(bigU_qc_2, range(t+s))\n",
    "    qc.barrier()\n",
    "        \n",
    "    #qc.append(bigU_qc.to_instruction(), range(t+s))\n",
    "\n",
    "# qft_dagger(qc, t)\n",
    "qc.append(qft_dagger(t), range(t))\n",
    "\n",
    "for t_i in range(t):\n",
    "    qc.measure(t_i, t_i)"
   ]
  },
  {
   "cell_type": "code",
   "execution_count": null,
   "metadata": {},
   "outputs": [],
   "source": []
  },
  {
   "cell_type": "code",
   "execution_count": 29,
   "metadata": {},
   "outputs": [
    {
     "name": "stderr",
     "output_type": "stream",
     "text": [
      "/cise/homes/dvolya/.local/lib/python3.6/site-packages/qiskit/circuit/quantumcircuit.py:861: DeprecationWarning: The parameter \"line_length\" is being replaced by \"fold\"\n",
      "  ax=ax)\n"
     ]
    },
    {
     "data": {
      "text/html": [
       "<pre style=\"word-wrap: normal;white-space: pre;background: #fff0;line-height: 1.1;font-family: &quot;Courier New&quot;,Courier,monospace\">         ┌───┐┌───────────────┐  ░ ┌───────────────┐  ░ ┌───────────────┐  ░ ┌───────────────┐  ░  ┌────────────────┐ ░  ┌────────────────┐ ░ ┌────────┐┌─┐               \n",
       " q_0: |0>┤ H ├┤0              ├──░─┤0              ├──░─┤0              ├──░─┤0              ├──░──┤0               ├─░──┤0               ├─░─┤0       ├┤M├───────────────\n",
       "         ├───┤│               │  ░ │               │  ░ │               │  ░ │               │  ░  │                │ ░  │                │ ░ │        │└╥┘┌─┐            \n",
       " q_1: |0>┤ H ├┤1              ├──░─┤1              ├──░─┤1              ├──░─┤1              ├──░──┤1               ├─░──┤1               ├─░─┤1       ├─╫─┤M├────────────\n",
       "         ├───┤│               │  ░ │               │  ░ │               │  ░ │               │  ░  │                │ ░  │                │ ░ │        │ ║ └╥┘┌─┐         \n",
       " q_2: |0>┤ H ├┤2              ├──░─┤2              ├──░─┤2              ├──░─┤2              ├──░──┤2               ├─░──┤2               ├─░─┤2       ├─╫──╫─┤M├─────────\n",
       "         ├───┤│               │  ░ │               │  ░ │               │  ░ │               │  ░  │                │ ░  │                │ ░ │  I-QFT │ ║  ║ └╥┘┌─┐      \n",
       " q_3: |0>┤ H ├┤3              ├──░─┤3              ├──░─┤3              ├──░─┤3              ├──░──┤3               ├─░──┤3               ├─░─┤3       ├─╫──╫──╫─┤M├──────\n",
       "         ├───┤│               │  ░ │               │  ░ │               │  ░ │               │  ░  │                │ ░  │                │ ░ │        │ ║  ║  ║ └╥┘┌─┐   \n",
       " q_4: |0>┤ H ├┤4              ├──░─┤4              ├──░─┤4              ├──░─┤4              ├──░──┤4               ├─░──┤4               ├─░─┤4       ├─╫──╫──╫──╫─┤M├───\n",
       "         ├───┤│               │  ░ │               │  ░ │               │  ░ │               │  ░  │                │ ░  │                │ ░ │        │ ║  ║  ║  ║ └╥┘┌─┐\n",
       " q_5: |0>┤ H ├┤5              ├──░─┤5              ├──░─┤5              ├──░─┤5              ├──░──┤5               ├─░──┤5               ├─░─┤5       ├─╫──╫──╫──╫──╫─┤M├\n",
       "         ├───┤│               │  ░ │               │  ░ │               │  ░ │               │  ░  │                │ ░  │                │ ░ └────────┘ ║  ║  ║  ║  ║ └╥┘\n",
       " q_6: |0>┤ X ├┤6              ├──░─┤6              ├──░─┤6              ├──░─┤6              ├──░──┤6               ├─░──┤6               ├─░────────────╫──╫──╫──╫──╫──╫─\n",
       "         ├───┤│  C-U-pow(2,1) │  ░ │  C-U-pow(2,2) │  ░ │  C-U-pow(2,4) │  ░ │  C-U-pow(2,8) │  ░  │  C-U-pow(2,16) │ ░  │  C-U-pow(2,32) │ ░            ║  ║  ║  ║  ║  ║ \n",
       " q_7: |0>┤ X ├┤7              ├──░─┤7              ├──░─┤7              ├──░─┤7              ├──░──┤7               ├─░──┤7               ├─░────────────╫──╫──╫──╫──╫──╫─\n",
       "         └───┘│               │  ░ │               │  ░ │               │  ░ │               │  ░  │                │ ░  │                │ ░            ║  ║  ║  ║  ║  ║ \n",
       " q_8: |0>─────┤8              ├──░─┤8              ├──░─┤8              ├──░─┤8              ├──░──┤8               ├─░──┤8               ├─░────────────╫──╫──╫──╫──╫──╫─\n",
       "              │               │  ░ │               │  ░ │               │  ░ │               │  ░  │                │ ░  │                │ ░            ║  ║  ║  ║  ║  ║ \n",
       " q_9: |0>─────┤9              ├──░─┤9              ├──░─┤9              ├──░─┤9              ├──░──┤9               ├─░──┤9               ├─░────────────╫──╫──╫──╫──╫──╫─\n",
       "              │               ││ ░ │               ││ ░ │               ││ ░ │               ││ ░ ││                │ ░ ││                │ ░            ║  ║  ║  ║  ║  ║ \n",
       "q_10: |0>─────┤10              ├─░─┤10              ├─░─┤10              ├─░─┤10              ├─░─┤10               ├─░─┤10               ├─░────────────╫──╫──╫──╫──╫──╫─\n",
       "         ┌───┐│                │ ░ │                │ ░ │                │ ░ │                │ ░ │                 │ ░ │                 │ ░            ║  ║  ║  ║  ║  ║ \n",
       "q_11: |0>┤ X ├┤11              ├─░─┤11              ├─░─┤11              ├─░─┤11              ├─░─┤11               ├─░─┤11               ├─░────────────╫──╫──╫──╫──╫──╫─\n",
       "         ├───┤│                │ ░ │                │ ░ │                │ ░ │                │ ░ │                 │ ░ │                 │ ░            ║  ║  ║  ║  ║  ║ \n",
       "q_12: |0>┤ X ├┤12              ├─░─┤12              ├─░─┤12              ├─░─┤12              ├─░─┤12               ├─░─┤12               ├─░────────────╫──╫──╫──╫──╫──╫─\n",
       "         └───┘│                │ ░ │                │ ░ │                │ ░ │                │ ░ │                 │ ░ │                 │ ░            ║  ║  ║  ║  ║  ║ \n",
       "q_13: |0>─────┤13              ├─░─┤13              ├─░─┤13              ├─░─┤13              ├─░─┤13               ├─░─┤13               ├─░────────────╫──╫──╫──╫──╫──╫─\n",
       "              └────────────────┘ ░ └────────────────┘ ░ └────────────────┘ ░ └────────────────┘ ░ └─────────────────┘ ░ └─────────────────┘ ░            ║  ║  ║  ║  ║  ║ \n",
       "  c_0: 0 ════════════════════════════════════════════════════════════════════════════════════════════════════════════════════════════════════════════════╩══╬══╬══╬══╬══╬═\n",
       "                                                                                                                                                            ║  ║  ║  ║  ║ \n",
       "  c_1: 0 ═══════════════════════════════════════════════════════════════════════════════════════════════════════════════════════════════════════════════════╩══╬══╬══╬══╬═\n",
       "                                                                                                                                                               ║  ║  ║  ║ \n",
       "  c_2: 0 ══════════════════════════════════════════════════════════════════════════════════════════════════════════════════════════════════════════════════════╩══╬══╬══╬═\n",
       "                                                                                                                                                                  ║  ║  ║ \n",
       "  c_3: 0 ═════════════════════════════════════════════════════════════════════════════════════════════════════════════════════════════════════════════════════════╩══╬══╬═\n",
       "                                                                                                                                                                     ║  ║ \n",
       "  c_4: 0 ════════════════════════════════════════════════════════════════════════════════════════════════════════════════════════════════════════════════════════════╩══╬═\n",
       "                                                                                                                                                                        ║ \n",
       "  c_5: 0 ═══════════════════════════════════════════════════════════════════════════════════════════════════════════════════════════════════════════════════════════════╩═\n",
       "                                                                                                                                                                          </pre>"
      ],
      "text/plain": [
       "<qiskit.visualization.text.TextDrawing at 0x7f1db5151898>"
      ]
     },
     "execution_count": 29,
     "metadata": {},
     "output_type": "execute_result"
    }
   ],
   "source": [
    "qc.draw(line_length=250)"
   ]
  },
  {
   "cell_type": "code",
   "execution_count": 12,
   "metadata": {},
   "outputs": [],
   "source": [
    "backend = Aer.get_backend('qasm_simulator')\n",
    "job = execute(qc, backend, shots=1024)\n",
    "result = job.result()"
   ]
  },
  {
   "cell_type": "code",
   "execution_count": 13,
   "metadata": {},
   "outputs": [
    {
     "name": "stdout",
     "output_type": "stream",
     "text": [
      "100001\n"
     ]
    },
    {
     "data": {
      "image/png": "[encoded data removed]",
      "text/plain": [
       "<Figure size 1440x216 with 1 Axes>"
      ]
     },
     "execution_count": 13,
     "metadata": {},
     "output_type": "execute_result"
    }
   ],
   "source": [
    "from qiskit.visualization import plot_histogram\n",
    "\n",
    "counts = result.get_counts()\n",
    "\n",
    "max_key = max(counts, key=counts.get)\n",
    "print(max_key)\n",
    "plot_histogram(result.get_counts(), figsize=(20,3))"
   ]
  },
  {
   "cell_type": "code",
   "execution_count": 14,
   "metadata": {},
   "outputs": [
    {
     "name": "stdout",
     "output_type": "stream",
     "text": [
      "[0, 1.5707963267948966, 0.39269908169872414, 0.7853981633974483]\n",
      "[1.5707963267948966, 0, 0.7853981633974483, 0.7853981633974483]\n",
      "[0.39269908169872414, 0.7853981633974483, 0, 0.39269908169872414]\n",
      "[0.7853981633974483, 0.7853981633974483, 0.39269908169872414, 0]\n",
      "[0, 1.5707963267948966, 0.39269908169872414, 0.7853981633974483]\n",
      "[1.5707963267948966, 0, 0.7853981633974483, 0.7853981633974483]\n",
      "[0.39269908169872414, 0.7853981633974483, 0, 0.39269908169872414]\n",
      "[0.7853981633974483, 0.7853981633974483, 0.39269908169872414, 0]\n",
      "[0, 1.5707963267948966, 0.39269908169872414, 0.7853981633974483]\n",
      "[1.5707963267948966, 0, 0.7853981633974483, 0.7853981633974483]\n",
      "[0.39269908169872414, 0.7853981633974483, 0, 0.39269908169872414]\n",
      "[0.7853981633974483, 0.7853981633974483, 0.39269908169872414, 0]\n",
      "[0, 1.5707963267948966, 0.39269908169872414, 0.7853981633974483]\n",
      "[1.5707963267948966, 0, 0.7853981633974483, 0.7853981633974483]\n",
      "[0.39269908169872414, 0.7853981633974483, 0, 0.39269908169872414]\n",
      "[0.7853981633974483, 0.7853981633974483, 0.39269908169872414, 0]\n",
      "[0, 1.5707963267948966, 0.39269908169872414, 0.7853981633974483]\n",
      "[1.5707963267948966, 0, 0.7853981633974483, 0.7853981633974483]\n",
      "[0.39269908169872414, 0.7853981633974483, 0, 0.39269908169872414]\n",
      "[0.7853981633974483, 0.7853981633974483, 0.39269908169872414, 0]\n",
      "[0, 1.5707963267948966, 0.39269908169872414, 0.7853981633974483]\n",
      "[1.5707963267948966, 0, 0.7853981633974483, 0.7853981633974483]\n",
      "[0.39269908169872414, 0.7853981633974483, 0, 0.39269908169872414]\n",
      "[0.7853981633974483, 0.7853981633974483, 0.39269908169872414, 0]\n"
     ]
    }
   ],
   "source": [
    "qc = QuantumCircuit(t+s,t)\n",
    "\n",
    "for t_i in range(t-1, -1, -1):\n",
    "    bigU_qc = QuantumCircuit(t+s, name='C-U'.format(2**(t-t_i-1)))\n",
    "    for idx, u in enumerate(U):\n",
    "        #phases = (1j *np.log(np.diag(u))).real\n",
    "        phases = test_phases[idx*4 : idx*4 + 4]\n",
    "        # print(idx, (t-t_i-1)*4)\n",
    "        print(phases)\n",
    "        gate = uni_gate(phases, 0,1,2, name='uni-{}'.format(idx))\n",
    "        #for power in range(2**(t-t_i-1)):\n",
    "        #    print(power)\n",
    "        bigU_qc.append(gate, [t_i,idx*2+t,idx*2+t+1])\n",
    "    #for power in range(2**(t-t_i-1)):\n",
    "    #    qc.append(bigU_qc, range(t+s))\n",
    "    qc.barrier()"
   ]
  },
  {
   "cell_type": "code",
   "execution_count": null,
   "metadata": {},
   "outputs": [],
   "source": []
  }
 ],
 "metadata": {
  "kernelspec": {
   "display_name": "Python 3",
   "language": "python",
   "name": "python3"
  },
  "language_info": {
   "codemirror_mode": {
    "name": "ipython",
    "version": 3
   },
   "file_extension": ".py",
   "mimetype": "text/x-python",
   "name": "python",
   "nbconvert_exporter": "python",
   "pygments_lexer": "ipython3",
   "version": "3.6.9"
  }
 },
 "nbformat": 4,
 "nbformat_minor": 4
}
